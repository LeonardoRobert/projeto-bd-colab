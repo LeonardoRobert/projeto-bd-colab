{
  "nbformat": 4,
  "nbformat_minor": 0,
  "metadata": {
    "colab": {
      "provenance": [],
      "authorship_tag": "ABX9TyPxx/AChgfZNqVLErN952NJ",
      "include_colab_link": true
    },
    "kernelspec": {
      "name": "python3",
      "display_name": "Python 3"
    },
    "language_info": {
      "name": "python"
    }
  },
  "cells": [
    {
      "cell_type": "markdown",
      "metadata": {
        "id": "view-in-github",
        "colab_type": "text"
      },
      "source": [
        "<a href=\"https://colab.research.google.com/github/LeonardoRobert/projeto-bd-colab/blob/main/Projeto_BD_SQLite.ipynb\" target=\"_parent\"><img src=\"https://colab.research.google.com/assets/colab-badge.svg\" alt=\"Open In Colab\"/></a>"
      ]
    },
    {
      "cell_type": "code",
      "execution_count": null,
      "metadata": {
        "id": "Rkku8JhtATEK"
      },
      "outputs": [],
      "source": [
        "import sqlite3\n",
        "\n",
        "# Conecta ao banco em memória (ou mude para 'projeto.db' se quiser persistência)\n",
        "conn = sqlite3.connect(':memory:')\n",
        "cursor = conn.cursor()\n",
        "\n",
        "# Ativar restrição de chave estrangeira no SQLite\n",
        "cursor.execute(\"PRAGMA foreign_keys = ON;\")\n",
        "\n",
        "# Tabela de pessoas\n",
        "cursor.execute('''\n",
        "CREATE TABLE IF NOT EXISTS pessoas (\n",
        "  id INTEGER PRIMARY KEY AUTOINCREMENT,\n",
        "  nome TEXT NOT NULL,\n",
        "  idade INTEGER\n",
        ");\n",
        "''')\n",
        "\n",
        "# Tabela de produtos\n",
        "cursor.execute('''\n",
        "CREATE TABLE IF NOT EXISTS produtos (\n",
        "  id INTEGER PRIMARY KEY AUTOINCREMENT,\n",
        "  descricao TEXT NOT NULL,\n",
        "  estoque INTEGER,\n",
        "  preco REAL\n",
        ");\n",
        "''')\n",
        "\n",
        "# Tabela de vendas\n",
        "cursor.execute('''\n",
        "CREATE TABLE IF NOT EXISTS vendas (\n",
        "  id_venda INTEGER PRIMARY KEY AUTOINCREMENT,\n",
        "  id_pessoa INTEGER,\n",
        "  id_produto INTEGER,\n",
        "  quantidade INTEGER,\n",
        "  FOREIGN KEY (id_pessoa) REFERENCES pessoas(id),\n",
        "  FOREIGN KEY (id_produto) REFERENCES produtos(id)\n",
        ");\n",
        "''')\n",
        "\n",
        "conn.commit()\n",
        "\n",
        "# Inserir pessoas\n",
        "cursor.execute(\"INSERT INTO pessoas (nome, idade) VALUES ('Maria', 30);\")\n",
        "cursor.execute(\"INSERT INTO pessoas (nome, idade) VALUES ('João', 25);\")\n",
        "cursor.execute(\"INSERT INTO pessoas (nome, idade) VALUES ('Ana', 40);\")\n",
        "\n",
        "# Inserir produtos\n",
        "cursor.execute(\"INSERT INTO produtos (descricao, estoque, preco) VALUES ('Caneta', 100, 1.50);\")\n",
        "cursor.execute(\"INSERT INTO produtos (descricao, estoque, preco) VALUES ('Caderno', 50, 6.50);\")\n",
        "\n",
        "conn.commit()\n",
        "\n",
        "# Inserir vendas\n",
        "cursor.execute(\"INSERT INTO vendas (id_pessoa, id_produto, quantidade) VALUES (1, 1, 10);\")\n",
        "cursor.execute(\"INSERT INTO vendas (id_pessoa, id_produto, quantidade) VALUES (2, 2, 2);\")\n",
        "\n",
        "conn.commit()\n",
        "\n",
        "# Consulta com JOIN para exibir os dados\n",
        "cursor.execute('''\n",
        "SELECT v.id_venda, p.nome, pr.descricao, v.quantidade\n",
        "FROM vendas v\n",
        "JOIN pessoas p ON v.id_pessoa = p.id\n",
        "JOIN produtos pr ON v.id_produto = pr.id;\n",
        "''')\n",
        "\n",
        "# Exibir resultados\n",
        "results = cursor.fetchall()\n",
        "for row in results:\n",
        "    print(row)\n",
        "\n",
        "conn.close()\n"
      ]
    }
  ]
}